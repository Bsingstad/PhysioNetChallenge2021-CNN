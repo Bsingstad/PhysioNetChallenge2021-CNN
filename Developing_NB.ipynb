{
 "cells": [
  {
   "cell_type": "code",
   "execution_count": 3,
   "metadata": {},
   "outputs": [],
   "source": [
    "import os"
   ]
  },
  {
   "cell_type": "code",
   "execution_count": 71,
   "metadata": {},
   "outputs": [],
   "source": [
    "def find_challenge_files(data_directory):\n",
    "    header_files = list()\n",
    "    recording_files = list()\n",
    "    for f in os.listdir(data_directory):\n",
    "        root, extension = os.path.splitext(f)\n",
    "        if not root.startswith('.') and extension=='.hea':\n",
    "            header_file = os.path.join(data_directory, root + '.hea')\n",
    "            recording_file = os.path.join(data_directory, root + '.mat')\n",
    "            if os.path.isfile(header_file) and os.path.isfile(recording_file):\n",
    "                header_files.append(header_file)\n",
    "                recording_files.append(recording_file)\n",
    "    return header_files, recording_files"
   ]
  },
  {
   "cell_type": "code",
   "execution_count": 72,
   "metadata": {},
   "outputs": [],
   "source": [
    "header_files, recording_files = find_challenge_files(\"./DataSmall/\")"
   ]
  },
  {
   "cell_type": "code",
   "execution_count": 13,
   "metadata": {},
   "outputs": [],
   "source": [
    "def load_recording(recording_file, header=None, leads=None, key='val'):\n",
    "    from scipy.io import loadmat\n",
    "    recording = loadmat(recording_file)[key]\n",
    "    if header and leads:\n",
    "        recording = choose_leads(recording, header, leads)\n",
    "    return recording"
   ]
  },
  {
   "cell_type": "code",
   "execution_count": 14,
   "metadata": {},
   "outputs": [],
   "source": [
    "def load_header(header_file):\n",
    "    with open(header_file, 'r') as f:\n",
    "        header = f.read()\n",
    "    return header"
   ]
  },
  {
   "cell_type": "code",
   "execution_count": 16,
   "metadata": {},
   "outputs": [],
   "source": [
    "def get_labels(header):\n",
    "    labels = list()\n",
    "    for l in header.split('\\n'):\n",
    "        if l.startswith('#Dx'):\n",
    "            try:\n",
    "                entries = l.split(': ')[1].split(',')\n",
    "                for entry in entries:\n",
    "                    labels.append(entry.strip())\n",
    "            except:\n",
    "                pass\n",
    "    return labels"
   ]
  },
  {
   "cell_type": "code",
   "execution_count": 17,
   "metadata": {},
   "outputs": [
    {
     "data": {
      "text/plain": [
       "['164867002', '427084000']"
      ]
     },
     "execution_count": 17,
     "metadata": {},
     "output_type": "execute_result"
    }
   ],
   "source": [
    "get_labels(load_header(header_files[0]))"
   ]
  },
  {
   "cell_type": "code",
   "execution_count": 19,
   "metadata": {},
   "outputs": [],
   "source": [
    "rec = load_recording(recording_files[0])"
   ]
  },
  {
   "cell_type": "code",
   "execution_count": null,
   "metadata": {},
   "outputs": [],
   "source": [
    "def generate_X(ecg_filenames):\n",
    "    while True:\n",
    "        for i in order_array:\n",
    "            data = load_recording(ecg_filenames[i])\n",
    "            \n",
    "            X_train_new = keras.preprocessing.sequence.pad_sequences(data, maxlen=5000, truncating='post',padding=\"post\")\n",
    "            X_train_new = X_train_new.reshape(5000,12)\n",
    "            yield X_train_new"
   ]
  },
  {
   "cell_type": "code",
   "execution_count": 21,
   "metadata": {},
   "outputs": [
    {
     "data": {
      "text/plain": [
       "(2, 5000)"
      ]
     },
     "execution_count": 21,
     "metadata": {},
     "output_type": "execute_result"
    }
   ],
   "source": [
    "rec[[1,3]]"
   ]
  },
  {
   "cell_type": "code",
   "execution_count": 23,
   "metadata": {},
   "outputs": [
    {
     "data": {
      "text/plain": [
       "'Q0001 12 500 5000 15-May-2020 15:35:30\\nQ0001.mat 16+24 1000/mV 16 0 0 -14 0 I\\nQ0001.mat 16+24 1000/mV 16 0 10 -9 0 II\\nQ0001.mat 16+24 1000/mV 16 0 10 -2 0 III\\nQ0001.mat 16+24 1000/mV 16 0 -5 5 0 aVR\\nQ0001.mat 16+24 1000/mV 16 0 -5 21 0 aVL\\nQ0001.mat 16+24 1000/mV 16 0 11 -34 0 aVF\\nQ0001.mat 16+24 1000/mV 16 0 52 -30 0 V1\\nQ0001.mat 16+24 1000/mV 16 0 44 -15 0 V2\\nQ0001.mat 16+24 1000/mV 16 0 17 -39 0 V3\\nQ0001.mat 16+24 1000/mV 16 0 75 -64 0 V4\\nQ0001.mat 16+24 1000/mV 16 0 16 -27 0 V5\\nQ0001.mat 16+24 1000/mV 16 0 9 18 0 V6\\n#Age: 53\\n#Sex: Male\\n#Dx: 164867002,427084000\\n#Rx: Unknown\\n#Hx: Unknown\\n#Sx: Unknown\\n'"
      ]
     },
     "execution_count": 23,
     "metadata": {},
     "output_type": "execute_result"
    }
   ],
   "source": [
    "load_header(header_files[0])"
   ]
  },
  {
   "cell_type": "code",
   "execution_count": 36,
   "metadata": {},
   "outputs": [],
   "source": [
    "import tensorflow as tf\n",
    "from tensorflow import keras\n"
   ]
  },
  {
   "cell_type": "code",
   "execution_count": 43,
   "metadata": {},
   "outputs": [],
   "source": [
    "def create_model(num_leads, classes):\n",
    "    inputlayer = keras.layers.Input(shape=(5000, num_leads)) \n",
    "\n",
    "    conv1 = keras.layers.Conv1D(filters=128, kernel_size=15,input_shape=(5000, num_leads), padding='same')(inputlayer)\n",
    "    conv1 = keras.layers.BatchNormalization()(conv1)\n",
    "    conv1 = keras.layers.Activation(activation='relu')(conv1)\n",
    "    #Legger til spatial dropout for å få med mer enn bare V4 som prediksjonsgrunnlag\n",
    "    conv1 = keras.layers.SpatialDropout1D(0.1)(conv1)\n",
    "\n",
    "    conv2 = keras.layers.Conv1D(filters=256, kernel_size=10, padding='same')(conv1)\n",
    "    conv2 = keras.layers.BatchNormalization()(conv2)\n",
    "    conv2 = keras.layers.Activation('relu')(conv2)\n",
    "    #Legger til spatial dropout for å få med mer enn bare V4 som prediksjonsgrunnlag\n",
    "    conv2 = keras.layers.SpatialDropout1D(0.1)(conv2)\n",
    "\n",
    "    conv3 = keras.layers.Conv1D(512, kernel_size=5,padding='same')(conv2)\n",
    "    conv3 = keras.layers.BatchNormalization()(conv3)\n",
    "    conv3 = keras.layers.Activation('relu')(conv3)\n",
    "    #Legger til spatial dropout for å få med mer enn bare V4 som prediksjonsgrunnlag\n",
    "    conv3 = keras.layers.Dropout(0.2)(conv3)\n",
    "\n",
    "    gap_layer = keras.layers.GlobalAveragePooling1D()(conv3)\n",
    "    #gap_layer = keras.layers.Flatten()(conv3)\n",
    "\n",
    "\n",
    "    output_layer = tf.keras.layers.Dense(units=classes,activation='sigmoid', name='output_layer')(gap_layer)\n",
    "\n",
    "    model = keras.Model(inputs=inputlayer, outputs=output_layer)\n",
    "    \n",
    "\n",
    "    model.compile(loss=tf.keras.losses.BinaryCrossentropy(), optimizer=tf.keras.optimizers.Adam(), \n",
    "    metrics=[tf.keras.metrics.BinaryAccuracy(name='accuracy', dtype=None, threshold=0.5)])\n",
    "    return model"
   ]
  },
  {
   "cell_type": "code",
   "execution_count": 44,
   "metadata": {},
   "outputs": [],
   "source": [
    "model = create_model(12, 30)"
   ]
  },
  {
   "cell_type": "code",
   "execution_count": 66,
   "metadata": {},
   "outputs": [
    {
     "data": {
      "text/plain": [
       "30"
      ]
     },
     "execution_count": 66,
     "metadata": {},
     "output_type": "execute_result"
    }
   ],
   "source": [
    "model.output.shape[1]"
   ]
  },
  {
   "cell_type": "code",
   "execution_count": 69,
   "metadata": {},
   "outputs": [
    {
     "data": {
      "text/plain": [
       "5000"
      ]
     },
     "execution_count": 69,
     "metadata": {},
     "output_type": "execute_result"
    }
   ],
   "source": [
    "model.input.shape[1]"
   ]
  },
  {
   "cell_type": "code",
   "execution_count": 70,
   "metadata": {},
   "outputs": [
    {
     "data": {
      "text/plain": [
       "12"
      ]
     },
     "execution_count": 70,
     "metadata": {},
     "output_type": "execute_result"
    }
   ],
   "source": [
    "model.input.shape[2]"
   ]
  },
  {
   "cell_type": "code",
   "execution_count": 74,
   "metadata": {},
   "outputs": [],
   "source": [
    "def is_integer(x):\n",
    "    if is_number(x):\n",
    "        return float(x).is_integer()\n",
    "    else:\n",
    "        return False"
   ]
  },
  {
   "cell_type": "code",
   "execution_count": 76,
   "metadata": {},
   "outputs": [],
   "source": [
    "def is_number(x):\n",
    "    try:\n",
    "        float(x)\n",
    "        return True\n",
    "    except (ValueError, TypeError):\n",
    "        return False"
   ]
  },
  {
   "cell_type": "code",
   "execution_count": 77,
   "metadata": {},
   "outputs": [],
   "source": [
    "classes = set()\n",
    "for header_file in header_files:\n",
    "    header = load_header(header_file)\n",
    "    classes |= set(get_labels(header))\n",
    "if all(is_integer(x) for x in classes):\n",
    "    classes = sorted(classes, key=lambda x: int(x)) # Sort classes numerically if numbers.\n",
    "else:\n",
    "    classes = sorted(classes) # Sort classes alphanumerically if not numbers.\n",
    "num_classes = len(classes)"
   ]
  },
  {
   "cell_type": "code",
   "execution_count": 79,
   "metadata": {},
   "outputs": [
    {
     "data": {
      "text/plain": [
       "list"
      ]
     },
     "execution_count": 79,
     "metadata": {},
     "output_type": "execute_result"
    }
   ],
   "source": [
    "type(classes)"
   ]
  },
  {
   "cell_type": "code",
   "execution_count": 96,
   "metadata": {},
   "outputs": [],
   "source": [
    "with open('classes.txt', 'w') as f:\n",
    "    for class_ in classes:\n",
    "        f.write(\"%s\\n\" % class_)\n",
    "f.close()"
   ]
  },
  {
   "cell_type": "code",
   "execution_count": 97,
   "metadata": {},
   "outputs": [
    {
     "name": "stdout",
     "output_type": "stream",
     "text": [
      "27885002\n",
      "\n",
      "54329005\n",
      "\n",
      "63593006\n",
      "\n",
      "164861001\n",
      "\n",
      "164865005\n",
      "\n",
      "164867002\n",
      "\n",
      "164873001\n",
      "\n",
      "164889003\n",
      "\n",
      "164890007\n",
      "\n",
      "164909002\n",
      "\n",
      "164930006\n",
      "\n",
      "164931005\n",
      "\n",
      "251120003\n",
      "\n",
      "270492004\n",
      "\n",
      "284470004\n",
      "\n",
      "413844008\n",
      "\n",
      "426627000\n",
      "\n",
      "427084000\n",
      "\n",
      "427172004\n",
      "\n",
      "428750005\n",
      "\n",
      "429622005\n",
      "\n",
      "713422000\n",
      "\n",
      "713426002\n",
      "\n",
      "713427006\n",
      "\n"
     ]
    }
   ],
   "source": [
    "new_list = []\n",
    "with open('classes.txt', 'r') as f:\n",
    "    for line in f:\n",
    "        print(line)\n",
    "        new_list.append(line)\n"
   ]
  },
  {
   "cell_type": "code",
   "execution_count": 98,
   "metadata": {},
   "outputs": [],
   "source": [
    "new_list=[s.strip('\\n') for s in new_list]"
   ]
  },
  {
   "cell_type": "code",
   "execution_count": 99,
   "metadata": {},
   "outputs": [
    {
     "data": {
      "text/plain": [
       "['27885002',\n",
       " '54329005',\n",
       " '63593006',\n",
       " '164861001',\n",
       " '164865005',\n",
       " '164867002',\n",
       " '164873001',\n",
       " '164889003',\n",
       " '164890007',\n",
       " '164909002',\n",
       " '164930006',\n",
       " '164931005',\n",
       " '251120003',\n",
       " '270492004',\n",
       " '284470004',\n",
       " '413844008',\n",
       " '426627000',\n",
       " '427084000',\n",
       " '427172004',\n",
       " '428750005',\n",
       " '429622005',\n",
       " '713422000',\n",
       " '713426002',\n",
       " '713427006']"
      ]
     },
     "execution_count": 99,
     "metadata": {},
     "output_type": "execute_result"
    }
   ],
   "source": [
    "new_list"
   ]
  },
  {
   "cell_type": "code",
   "execution_count": 106,
   "metadata": {},
   "outputs": [],
   "source": [
    "header_files, recording_files = find_challenge_files(\"../PhysioNetChallenge2021official\\Data_all\")"
   ]
  },
  {
   "cell_type": "code",
   "execution_count": 107,
   "metadata": {},
   "outputs": [],
   "source": [
    "classes = set()\n",
    "for header_file in header_files:\n",
    "    header = load_header(header_file)\n",
    "    classes |= set(get_labels(header))\n",
    "if all(is_integer(x) for x in classes):\n",
    "    classes = sorted(classes, key=lambda x: int(x)) # Sort classes numerically if numbers.\n",
    "else:\n",
    "    classes = sorted(classes) # Sort classes alphanumerically if not numbers.\n",
    "num_classes = len(classes)"
   ]
  },
  {
   "cell_type": "code",
   "execution_count": 122,
   "metadata": {},
   "outputs": [
    {
     "data": {
      "text/plain": [
       "134"
      ]
     },
     "execution_count": 122,
     "metadata": {},
     "output_type": "execute_result"
    }
   ],
   "source": [
    "num_classes"
   ]
  },
  {
   "cell_type": "code",
   "execution_count": 108,
   "metadata": {},
   "outputs": [
    {
     "data": {
      "text/plain": [
       "['',\n",
       " '10370003',\n",
       " '106068003',\n",
       " '111288001',\n",
       " '11157007',\n",
       " '111975006',\n",
       " '13640000',\n",
       " '164861001',\n",
       " '164865005',\n",
       " '164867002',\n",
       " '164873001',\n",
       " '164884008',\n",
       " '164889003',\n",
       " '164890007',\n",
       " '164895002',\n",
       " '164896001',\n",
       " '164909002',\n",
       " '164912004',\n",
       " '164917005',\n",
       " '164921003',\n",
       " '164930006',\n",
       " '164931005',\n",
       " '164934002',\n",
       " '164937009',\n",
       " '164942001',\n",
       " '164947007',\n",
       " '164951009',\n",
       " '17338001',\n",
       " '17366009',\n",
       " '195042002',\n",
       " '195060002',\n",
       " '195080001',\n",
       " '195101003',\n",
       " '195126007',\n",
       " '204384007',\n",
       " '233892002',\n",
       " '233897008',\n",
       " '233917008',\n",
       " '251120003',\n",
       " '251139008',\n",
       " '251146004',\n",
       " '251164006',\n",
       " '251166008',\n",
       " '251168009',\n",
       " '251170000',\n",
       " '251173003',\n",
       " '251180001',\n",
       " '251182009',\n",
       " '251187003',\n",
       " '251198002',\n",
       " '251199005',\n",
       " '251200008',\n",
       " '251205003',\n",
       " '251211000',\n",
       " '251223006',\n",
       " '251259000',\n",
       " '251266004',\n",
       " '251268003',\n",
       " '253339007',\n",
       " '253352002',\n",
       " '266249003',\n",
       " '266257000',\n",
       " '270492004',\n",
       " '27885002',\n",
       " '282825002',\n",
       " '284470004',\n",
       " '29320008',\n",
       " '314208002',\n",
       " '368009',\n",
       " '370365005',\n",
       " '39732003',\n",
       " '413444003',\n",
       " '413844008',\n",
       " '418818005',\n",
       " '425419005',\n",
       " '425623009',\n",
       " '425856008',\n",
       " '426177001',\n",
       " '426183003',\n",
       " '426434006',\n",
       " '426627000',\n",
       " '426648003',\n",
       " '426664006',\n",
       " '426749004',\n",
       " '426761007',\n",
       " '426783006',\n",
       " '426995002',\n",
       " '427084000',\n",
       " '427172004',\n",
       " '427393009',\n",
       " '428417006',\n",
       " '428750005',\n",
       " '429622005',\n",
       " '445118002',\n",
       " '445211001',\n",
       " '446358003',\n",
       " '446813000',\n",
       " '47665007',\n",
       " '49260003',\n",
       " '49578007',\n",
       " '50799005',\n",
       " '53741008',\n",
       " '54016002',\n",
       " '54329005',\n",
       " '55827005',\n",
       " '55930002',\n",
       " '5609005',\n",
       " '57054005',\n",
       " '59118001',\n",
       " '59931005',\n",
       " '60423000',\n",
       " '61277005',\n",
       " '61721007',\n",
       " '6180003',\n",
       " '63593006',\n",
       " '6374002',\n",
       " '65778007',\n",
       " '67198005',\n",
       " '67741000119109',\n",
       " '67751000119106',\n",
       " '698247007',\n",
       " '698252002',\n",
       " '704997005',\n",
       " '713422000',\n",
       " '713426002',\n",
       " '713427006',\n",
       " '74390002',\n",
       " '74615001',\n",
       " '75532003',\n",
       " '77867006',\n",
       " '81898007',\n",
       " '82226007',\n",
       " '84114007',\n",
       " '89792004']"
      ]
     },
     "execution_count": 108,
     "metadata": {},
     "output_type": "execute_result"
    }
   ],
   "source": [
    "classes"
   ]
  },
  {
   "cell_type": "code",
   "execution_count": 114,
   "metadata": {},
   "outputs": [],
   "source": [
    "import pandas as pd\n",
    "import numpy as np"
   ]
  },
  {
   "cell_type": "code",
   "execution_count": 132,
   "metadata": {},
   "outputs": [
    {
     "data": {
      "text/plain": [
       "array(['164889003', '164890007', '6374002', '426627000', '733534002',\n",
       "       '713427006', '270492004', '713426002', '39732003', '445118002',\n",
       "       '164909002', '251146004', '698252002', '426783006', '284470004',\n",
       "       '10370003', '365413008', '427172004', '164947007', '111975006',\n",
       "       '164917005', '47665007', '59118001', '427393009', '426177001',\n",
       "       '427084000', '63593006', '164934002', '59931005', '17338001'],\n",
       "      dtype='<U21')"
      ]
     },
     "execution_count": 132,
     "metadata": {},
     "output_type": "execute_result"
    }
   ],
   "source": [
    "np.asarray(pd.read_csv(\"dx_mapping_scored.csv\").iloc[:,1], dtype=\"str\")"
   ]
  },
  {
   "cell_type": "code",
   "execution_count": 123,
   "metadata": {},
   "outputs": [],
   "source": [
    "test = set()"
   ]
  },
  {
   "cell_type": "code",
   "execution_count": 127,
   "metadata": {},
   "outputs": [],
   "source": [
    "test |= set(['a','b'])"
   ]
  },
  {
   "cell_type": "code",
   "execution_count": 129,
   "metadata": {},
   "outputs": [
    {
     "data": {
      "text/plain": [
       "{'a', 'b'}"
      ]
     },
     "execution_count": 129,
     "metadata": {},
     "output_type": "execute_result"
    }
   ],
   "source": [
    "test"
   ]
  },
  {
   "cell_type": "code",
   "execution_count": 130,
   "metadata": {},
   "outputs": [],
   "source": [
    "test |= set(['a','c'])"
   ]
  },
  {
   "cell_type": "code",
   "execution_count": 131,
   "metadata": {},
   "outputs": [
    {
     "data": {
      "text/plain": [
       "{'a', 'b', 'c'}"
      ]
     },
     "execution_count": 131,
     "metadata": {},
     "output_type": "execute_result"
    }
   ],
   "source": [
    "test"
   ]
  },
  {
   "cell_type": "code",
   "execution_count": 133,
   "metadata": {},
   "outputs": [
    {
     "ename": "ValueError",
     "evalue": "The truth value of an array with more than one element is ambiguous. Use a.any() or a.all()",
     "output_type": "error",
     "traceback": [
      "\u001b[1;31m---------------------------------------------------------------------------\u001b[0m",
      "\u001b[1;31mValueError\u001b[0m                                Traceback (most recent call last)",
      "\u001b[1;32m<ipython-input-133-216bfc6a4cd1>\u001b[0m in \u001b[0;36m<module>\u001b[1;34m\u001b[0m\n\u001b[0;32m      1\u001b[0m \u001b[1;32mfor\u001b[0m \u001b[0mi\u001b[0m \u001b[1;32min\u001b[0m \u001b[0mclasses\u001b[0m\u001b[1;33m:\u001b[0m\u001b[1;33m\u001b[0m\u001b[1;33m\u001b[0m\u001b[0m\n\u001b[1;32m----> 2\u001b[1;33m     \u001b[1;32mif\u001b[0m \u001b[0mi\u001b[0m \u001b[1;33m==\u001b[0m \u001b[0mnp\u001b[0m\u001b[1;33m.\u001b[0m\u001b[0masarray\u001b[0m\u001b[1;33m(\u001b[0m\u001b[0mpd\u001b[0m\u001b[1;33m.\u001b[0m\u001b[0mread_csv\u001b[0m\u001b[1;33m(\u001b[0m\u001b[1;34m\"dx_mapping_scored.csv\"\u001b[0m\u001b[1;33m)\u001b[0m\u001b[1;33m.\u001b[0m\u001b[0miloc\u001b[0m\u001b[1;33m[\u001b[0m\u001b[1;33m:\u001b[0m\u001b[1;33m,\u001b[0m\u001b[1;36m1\u001b[0m\u001b[1;33m]\u001b[0m\u001b[1;33m,\u001b[0m \u001b[0mdtype\u001b[0m\u001b[1;33m=\u001b[0m\u001b[1;34m\"str\"\u001b[0m\u001b[1;33m)\u001b[0m\u001b[1;33m:\u001b[0m\u001b[1;33m\u001b[0m\u001b[1;33m\u001b[0m\u001b[0m\n\u001b[0m\u001b[0;32m      3\u001b[0m         \u001b[0mprint\u001b[0m\u001b[1;33m(\u001b[0m\u001b[0mi\u001b[0m\u001b[1;33m)\u001b[0m\u001b[1;33m\u001b[0m\u001b[1;33m\u001b[0m\u001b[0m\n",
      "\u001b[1;31mValueError\u001b[0m: The truth value of an array with more than one element is ambiguous. Use a.any() or a.all()"
     ]
    }
   ],
   "source": [
    "for i in classes:\n",
    "    if i == np.asarray(pd.read_csv(\"dx_mapping_scored.csv\").iloc[:,1], dtype=\"str\"):\n",
    "        print(i)"
   ]
  },
  {
   "cell_type": "code",
   "execution_count": 135,
   "metadata": {},
   "outputs": [
    {
     "name": "stdout",
     "output_type": "stream",
     "text": [
      "10370003\n",
      "111975006\n",
      "164889003\n",
      "164890007\n",
      "164909002\n",
      "164917005\n",
      "164934002\n",
      "164947007\n",
      "17338001\n",
      "251146004\n",
      "270492004\n",
      "284470004\n",
      "39732003\n",
      "426177001\n",
      "426627000\n",
      "426783006\n",
      "427084000\n",
      "427172004\n",
      "427393009\n",
      "445118002\n",
      "47665007\n",
      "59118001\n",
      "59931005\n",
      "63593006\n",
      "6374002\n",
      "698252002\n",
      "713426002\n",
      "713427006\n"
     ]
    }
   ],
   "source": [
    "for i in classes:\n",
    "    if any(j == i for j in np.asarray(pd.read_csv(\"dx_mapping_scored.csv\").iloc[:,1], dtype=\"str\")):\n",
    "        print(i)"
   ]
  },
  {
   "cell_type": "code",
   "execution_count": null,
   "metadata": {},
   "outputs": [],
   "source": []
  }
 ],
 "metadata": {
  "kernelspec": {
   "display_name": "Python 3",
   "language": "python",
   "name": "python3"
  },
  "language_info": {
   "codemirror_mode": {
    "name": "ipython",
    "version": 3
   },
   "file_extension": ".py",
   "mimetype": "text/x-python",
   "name": "python",
   "nbconvert_exporter": "python",
   "pygments_lexer": "ipython3",
   "version": "3.7.9"
  }
 },
 "nbformat": 4,
 "nbformat_minor": 4
}
