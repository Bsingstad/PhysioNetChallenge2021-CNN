{
 "cells": [
  {
   "cell_type": "code",
   "execution_count": 3,
   "metadata": {},
   "outputs": [],
   "source": [
    "import os"
   ]
  },
  {
   "cell_type": "code",
   "execution_count": 4,
   "metadata": {},
   "outputs": [],
   "source": [
    "def find_challenge_files(data_directory):\n",
    "    header_files = list()\n",
    "    recording_files = list()\n",
    "    for f in os.listdir(data_directory):\n",
    "        root, extension = os.path.splitext(f)\n",
    "        if not root.startswith('.') and extension=='.hea':\n",
    "            header_file = os.path.join(data_directory, root + '.hea')\n",
    "            recording_file = os.path.join(data_directory, root + '.mat')\n",
    "            if os.path.isfile(header_file) and os.path.isfile(recording_file):\n",
    "                header_files.append(header_file)\n",
    "                recording_files.append(recording_file)\n",
    "    return header_files, recording_files"
   ]
  },
  {
   "cell_type": "code",
   "execution_count": 6,
   "metadata": {},
   "outputs": [],
   "source": [
    "header_files, recording_files = find_challenge_files(\"./DataSmall/\")"
   ]
  },
  {
   "cell_type": "code",
   "execution_count": 13,
   "metadata": {},
   "outputs": [],
   "source": [
    "def load_recording(recording_file, header=None, leads=None, key='val'):\n",
    "    from scipy.io import loadmat\n",
    "    recording = loadmat(recording_file)[key]\n",
    "    if header and leads:\n",
    "        recording = choose_leads(recording, header, leads)\n",
    "    return recording"
   ]
  },
  {
   "cell_type": "code",
   "execution_count": 14,
   "metadata": {},
   "outputs": [],
   "source": [
    "def load_header(header_file):\n",
    "    with open(header_file, 'r') as f:\n",
    "        header = f.read()\n",
    "    return header"
   ]
  },
  {
   "cell_type": "code",
   "execution_count": 16,
   "metadata": {},
   "outputs": [],
   "source": [
    "def get_labels(header):\n",
    "    labels = list()\n",
    "    for l in header.split('\\n'):\n",
    "        if l.startswith('#Dx'):\n",
    "            try:\n",
    "                entries = l.split(': ')[1].split(',')\n",
    "                for entry in entries:\n",
    "                    labels.append(entry.strip())\n",
    "            except:\n",
    "                pass\n",
    "    return labels"
   ]
  },
  {
   "cell_type": "code",
   "execution_count": 17,
   "metadata": {},
   "outputs": [
    {
     "data": {
      "text/plain": [
       "['164867002', '427084000']"
      ]
     },
     "execution_count": 17,
     "metadata": {},
     "output_type": "execute_result"
    }
   ],
   "source": [
    "get_labels(load_header(header_files[0]))"
   ]
  },
  {
   "cell_type": "code",
   "execution_count": 12,
   "metadata": {},
   "outputs": [
    {
     "data": {
      "text/plain": [
       "array([[  0,   0,   0, ..., -13,  -8, -10],\n",
       "       [ 10,  12,  11, ...,  -1,   4,   7],\n",
       "       [ 10,  13,  12, ...,  12,  12,  18],\n",
       "       ...,\n",
       "       [ 75, 103,  89, ..., 107, 104, 121],\n",
       "       [ 16,  18,  13, ...,   2,   6,   8],\n",
       "       [  9,   9,   4, ...,   3,   2,   3]], dtype=int16)"
      ]
     },
     "execution_count": 12,
     "metadata": {},
     "output_type": "execute_result"
    }
   ],
   "source": [
    "load_recording(recording_files[0])"
   ]
  },
  {
   "cell_type": "code",
   "execution_count": null,
   "metadata": {},
   "outputs": [],
   "source": [
    "def generate_X(ecg_filenames):\n",
    "    while True:\n",
    "        for i in order_array:\n",
    "            data = load_recording(ecg_filenames[i])\n",
    "            \n",
    "            X_train_new = keras.preprocessing.sequence.pad_sequences(data, maxlen=5000, truncating='post',padding=\"post\")\n",
    "            X_train_new = X_train_new.reshape(5000,12)\n",
    "            yield X_train_new"
   ]
  }
 ],
 "metadata": {
  "kernelspec": {
   "display_name": "Python 3",
   "language": "python",
   "name": "python3"
  },
  "language_info": {
   "codemirror_mode": {
    "name": "ipython",
    "version": 3
   },
   "file_extension": ".py",
   "mimetype": "text/x-python",
   "name": "python",
   "nbconvert_exporter": "python",
   "pygments_lexer": "ipython3",
   "version": "3.7.9"
  }
 },
 "nbformat": 4,
 "nbformat_minor": 4
}
